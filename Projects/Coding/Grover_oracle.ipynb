{
 "cells": [
  {
   "cell_type": "code",
   "execution_count": 1,
   "id": "dcce8b60-e912-4bb3-b051-c64afc84f654",
   "metadata": {},
   "outputs": [],
   "source": [
    "import numpy as np\n",
    "\n",
    "# Importing standard Qiskit libraries\n",
    "from qiskit import QuantumCircuit, transpile,compiler, Aer, IBMQ\n",
    "from qiskit.tools.jupyter import *\n",
    "from qiskit.visualization import *\n",
    "from ibm_quantum_widgets import *\n",
    "from qiskit.providers.aer import QasmSimulator\n",
    "\n",
    "# Loading your IBM Quantum account(s)\n",
    "provider = IBMQ.load_account()\n",
    "\n",
    "from qiskit import QuantumCircuit, QuantumRegister, ClassicalRegister, transpile, execute\n",
    "from qiskit.providers.aer.noise import NoiseModel\n",
    "import numpy as np\n",
    "import matplotlib.pyplot as plt\n",
    "import pandas as pd\n",
    "import random"
   ]
  },
  {
   "cell_type": "code",
   "execution_count": 37,
   "id": "90762de2-ca15-402f-807f-676d5dab97d6",
   "metadata": {},
   "outputs": [],
   "source": [
    "prova = 1\n",
    "n_solutions = 1\n",
    "N = 4\n",
    "qubits = 2\n",
    "df = pd.DataFrame()\n",
    "\n"
   ]
  },
  {
   "cell_type": "code",
   "execution_count": 38,
   "id": "1cb6f732-dcd2-494a-8ed9-22763651f57f",
   "metadata": {},
   "outputs": [],
   "source": [
    "###########################################\n",
    "#DEFINING AN EXECUTOR FUNCTION\n",
    "def executor(circuit, sim, shots=10 ** 5, noise_model= None):\n",
    "    \"\"\"\n",
    "    Executes the input circuit and returns the noisy expectation value <A>.\n",
    "    Args: circuit = circuit to compute the exp value\n",
    "          sim = simulator where to act\n",
    "          shots = number of trials\n",
    "          noise_model = noise to be used\n",
    "    return: expectation value\n",
    "    \"\"\"\n",
    "    # Append measurements\n",
    "    circuit_to_run = circuit.copy()\n",
    "    circuit_to_run.measure_all()\n",
    "\n",
    "    # Run and get counts\n",
    "    #print(f\"Executing circuit with {len(circuit)} gates using {shots} shots.\")\n",
    "    job = execute(circuit_to_run, backend=sim, shots=shots, noise_model=noise_model, optimization_level=0).result()\n",
    "    counts = job.get_counts()\n",
    "    #print(counts)\n",
    "\n",
    "    #plt.figure(figsize=(14,10))\n",
    "    #plt.bar(counts.keys(), counts.values(), color='royalblue')\n",
    "    #plt.show()\n",
    "    \n",
    "    # Compute expectation value of the observable\n",
    "    exp_value = max(counts.values()) / shots\n",
    "    return exp_value\n"
   ]
  },
  {
   "cell_type": "markdown",
   "id": "acb9b673-0032-4a51-b717-8bcc19a4121c",
   "metadata": {},
   "source": [
    "Folding techniques"
   ]
  },
  {
   "cell_type": "code",
   "execution_count": 39,
   "id": "ca858942-06a0-4148-889c-941f50571ffc",
   "metadata": {},
   "outputs": [],
   "source": [
    "\n",
    "def circuit_folding (circuit, scaling=1):\n",
    "    \"\"\"\n",
    "    Function that takes a circuit as a input and apply the circuit folding, considering the scaling factor\n",
    "    Args: circuit = circuit to be folded\n",
    "          scaling = scaling factor (1=do not fold), (3=fold one time the whole circuit)\n",
    "    return: the circuit folded\n",
    "    \"\"\"\n",
    "    #properties of the circuit\n",
    "    n_qubits = circuit.width()\n",
    "    qubits = list(np.arange(n_qubits))\n",
    "\n",
    "    #retrieving from the scaling factor the number of times we need to apply the circuit\n",
    "    ratio = (scaling-1)/2\n",
    "    #number of times we need to fold the whole circuit\n",
    "    n = int(ratio)\n",
    "    #number of last layers to be folded again\n",
    "    s = int((ratio-n)*circuit.size())\n",
    "\n",
    "    circuit_folded = circuit.copy()\n",
    "    c_inv = circuit_folded.inverse()\n",
    "    circuit_folded.barrier()\n",
    "\n",
    "    for i in range(0,n,1):\n",
    "        circuit_folded = circuit_folded.compose(c_inv)\n",
    "        circuit_folded.barrier()\n",
    "        circuit_folded =circuit_folded.compose(circuit)\n",
    "\n",
    "    #creating a partial circuit, made only of the last s layers\n",
    "    if (s != 0):\n",
    "        c_partial = QuantumCircuit(QuantumRegister(n_qubits))\n",
    "        for j in range(circuit.size() - s, circuit.size(), 1):\n",
    "            tuple = circuit.data[j][0]\n",
    "            arg = circuit.data[j][1]\n",
    "            args=[]\n",
    "            for k in range(len(arg)):\n",
    "              args.append(arg[k].index)\n",
    "            c_partial.append(tuple, qargs=list(args))\n",
    "\n",
    "        circuit_folded =circuit_folded.compose(c_partial.inverse())\n",
    "        circuit_folded.barrier()\n",
    "        circuit_folded =circuit_folded.compose(c_partial)\n",
    "\n",
    "    return circuit_folded\n"
   ]
  },
  {
   "cell_type": "code",
   "execution_count": 40,
   "id": "6e385705-61a9-4d10-88da-572206ec4b72",
   "metadata": {},
   "outputs": [],
   "source": [
    "\n",
    "def gate_folding (circuit, scaling=1, way='Left'):\n",
    "    \"\"\"\n",
    "    Function that takes a circuit as a input and apply the gate folding, considering the scaling factor\n",
    "    Args: circuit = circuit to be folded\n",
    "          scaling = scaling factor (1=do not fold), (3=fold one time the whole circuit)\n",
    "          way = which way to fill the circuit for s values: Left, Right, Random\n",
    "    return: the circuit folded\n",
    "    \"\"\"\n",
    "    # properties of the circuit\n",
    "    n_qubits = circuit.width()\n",
    "    n_gates = circuit.size()\n",
    "    qubits = list(np.arange(n_qubits))\n",
    "\n",
    "    # retrieving from the scaling factor the number of times we need to fold completely each single gate\n",
    "    ratio = (scaling - 1) / 2\n",
    "    # number of times we need to fold the whole circuit\n",
    "    n = int(ratio)\n",
    "    # number layers to be folded again one more time\n",
    "    s = int((ratio - n) * n_gates)\n",
    "\n",
    "    circuit_folded = circuit.copy()\n",
    "\n",
    "    count = 1\n",
    "    list_gates = list(np.arange(n_gates))\n",
    "    random_gates = random.sample(list_gates, s)\n",
    "\n",
    "    for i in range(n_gates):\n",
    "        instruction = circuit.data[i]\n",
    "\n",
    "        # computing the inverse and storing it into another instruction\n",
    "        instruction_inverse = list(instruction)\n",
    "        instruction_inverse[0] = instruction[0].inverse()\n",
    "        instruction_inverse = tuple(instruction_inverse)\n",
    "\n",
    "        for k in range(n):\n",
    "\n",
    "            #folding the circuit for n times\n",
    "            circuit_folded.data.insert(i+count, instruction_inverse)\n",
    "            count+=1\n",
    "            circuit_folded.data.insert(i + count, instruction)\n",
    "            count += 1\n",
    "\n",
    "        if (way=='Left'):\n",
    "            if (i < s):\n",
    "                circuit_folded.data.insert(i + count, instruction_inverse)\n",
    "                count += 1\n",
    "                circuit_folded.data.insert(i + count, instruction)\n",
    "                count += 1\n",
    "\n",
    "        if (way=='Right'):\n",
    "            if (i >= (n_gates-s)):\n",
    "                circuit_folded.data.insert(i + count, instruction_inverse)\n",
    "                count += 1\n",
    "                circuit_folded.data.insert(i + count, instruction)\n",
    "                count += 1\n",
    "\n",
    "        if (way=='Random'):\n",
    "            if (i in random_gates):\n",
    "                circuit_folded.data.insert(i + count, instruction_inverse)\n",
    "                count += 1\n",
    "                circuit_folded.data.insert(i + count, instruction)\n",
    "                count += 1\n",
    "\n",
    "\n",
    "    return circuit_folded"
   ]
  },
  {
   "cell_type": "code",
   "execution_count": 41,
   "id": "a3d5315c-5576-46dc-80f5-1e2539a02d59",
   "metadata": {},
   "outputs": [],
   "source": [
    "#DEFINING THE CIRCUIT\n",
    "\n",
    "#defining the oracle, solutions already known\n",
    "from qiskit_textbook.problems import grover_problem_oracle\n",
    "oracle = grover_problem_oracle(qubits, variant=2)  # 0th variant of oracle, with n qubits\n"
   ]
  },
  {
   "cell_type": "code",
   "execution_count": 50,
   "id": "334dc487-fdaa-433b-a5dc-6bff140e320e",
   "metadata": {},
   "outputs": [
    {
     "name": "stdout",
     "output_type": "stream",
     "text": [
      "1.5707963267948966\n",
      "Circuit Depth:  6\n",
      "Circuit size:  10\n"
     ]
    },
    {
     "data": {
      "image/png": "[encoded data removed]",
      "text/plain": [
       "<Figure size 628.252x144.48 with 1 Axes>"
      ]
     },
     "execution_count": 50,
     "metadata": {},
     "output_type": "execute_result"
    }
   ],
   "source": [
    "from qiskit.circuit.library import MCMT\n",
    "from qiskit.circuit.library import ZGate\n",
    "\n",
    "#defining the Grover gate\n",
    "def grover_gate(circuit):\n",
    "    # Hadamard\n",
    "    for i in range(qubits):\n",
    "        circuit.h(i)\n",
    "\n",
    "    # To add a phase at all the solutions except |0>, we create a set of\n",
    "    # transformations that only |0> won't trigger\n",
    "    # from qiskit template\n",
    "    \n",
    "    \n",
    "    '''\n",
    "    #for 4 qubits\n",
    "    for i in range(qubits):\n",
    "        circuit.x(i)\n",
    "    \n",
    "    circuit.append(ZGate().control(3), [0,1,2,3])\n",
    "        \n",
    "    for i in range(qubits):\n",
    "        circuit.x(i)\n",
    "    '''\n",
    "         \n",
    "        \n",
    "    '''\n",
    "    #for 3 qubits\n",
    "    circuit.z([0, 1, 2])\n",
    "\n",
    "    circuit.cz(2, 1)\n",
    "    circuit.cz(1, 0)\n",
    "    circuit.cz(0, 2)\n",
    "    #ccz = MCMT('cz', 2, 1)\n",
    "    #circuit.append(ccz, [2, 1, 0])\n",
    "    circuit.append(ZGate().control(2), [2,1,0])\n",
    "    '''\n",
    "    \n",
    "    \n",
    "    #for 2 qubits\n",
    "    circuit.z([0,1])\n",
    "    circuit.cz(0,1)\n",
    "    \n",
    "\n",
    "\n",
    "    #Hadamard again\n",
    "    for i in range(qubits):\n",
    "        circuit.h(i)\n",
    "     \n",
    "\n",
    "    #circuit.barrier()\n",
    "    return circuit\n",
    "\n",
    "#constructiong the Grover\n",
    "#applying the Hadamard\n",
    "circuit = QuantumCircuit(qubits)\n",
    "\n",
    "for i in range(qubits):\n",
    "    circuit.h(i)\n",
    "\n",
    "\n",
    "#defining the number of times we need to apply the Grover's circuit (defined as pi/4 *sqrt(search/solutions))\n",
    "print(np.pi/4 *np.sqrt(N/n_solutions))\n",
    "num_times = int(np.pi/4 *np.sqrt(N/n_solutions))\n",
    "\n",
    "\n",
    "for i in range(num_times):\n",
    "    circuit.append(oracle, list(np.arange(qubits)))    \n",
    "    grover_gate(circuit)\n",
    "\n",
    "print('Circuit Depth: ', circuit.depth())\n",
    "print('Circuit size: ', circuit.size())\n",
    "\n",
    "circuit.draw('mpl')"
   ]
  },
  {
   "cell_type": "code",
   "execution_count": 170,
   "id": "df1de220-cfff-4906-9bfa-3ab0a95e0610",
   "metadata": {},
   "outputs": [
    {
     "name": "stdout",
     "output_type": "stream",
     "text": [
      "Ideal_value:  0.9454\n"
     ]
    }
   ],
   "source": [
    "#####################################################\n",
    "#EXECUTE WITH NOISELESS BACKEND\n",
    "# Set the number of shots\n",
    "shots = 5*10 ** 5\n",
    "\n",
    "# Initialize ideal backend (classical noiseless simulator)\n",
    "ideal_backend = Aer.get_backend('qasm_simulator')\n",
    "ideal_value = executor(circuit, ideal_backend, shots)\n",
    "print('Ideal_value: ', ideal_value)"
   ]
  },
  {
   "cell_type": "code",
   "execution_count": 171,
   "id": "f9c34c21-123e-41c8-8377-8b4c2b23f651",
   "metadata": {},
   "outputs": [
    {
     "name": "stdout",
     "output_type": "stream",
     "text": [
      "Noisy_value:  0.793206\n"
     ]
    }
   ],
   "source": [
    "\n",
    "\n",
    "###################################################\n",
    "#EXECUTE WITH NOISY BACKEND\n",
    "# Select a noisy backend\n",
    "\n",
    "backend = provider.get_backend('ibmq_lima')\n",
    "noise_model = NoiseModel.from_backend(backend)\n",
    "simulator = Aer.get_backend('qasm_simulator')\n",
    "noisy_value = executor(circuit, simulator, shots, noise_model=noise_model)\n",
    "print('Noisy_value: ', noisy_value)"
   ]
  },
  {
   "cell_type": "code",
   "execution_count": 172,
   "id": "189c7177-04c3-4515-84ab-fddcc6987fcd",
   "metadata": {},
   "outputs": [
    {
     "name": "stdout",
     "output_type": "stream",
     "text": [
      "CIRCUIT FOLDING\n",
      "Circuit Depth:  79\n",
      "Circuit circuit size:  137\n",
      "148\n"
     ]
    },
    {
     "name": "stderr",
     "output_type": "stream",
     "text": [
      "/tmp/ipykernel_64/4009622615.py:36: DeprecationWarning: Back-references to from Bit instances to their containing Registers have been deprecated. Instead, inspect Registers to find their contained Bits.\n",
      "  args.append(arg[k].index)\n"
     ]
    },
    {
     "name": "stdout",
     "output_type": "stream",
     "text": [
      "Noisy_value:  0.57086\n"
     ]
    },
    {
     "data": {
      "image/png": "[encoded data removed]",
      "text/plain": [
       "<Figure size 1591.6x1167.88 with 1 Axes>"
      ]
     },
     "execution_count": 172,
     "metadata": {},
     "output_type": "execute_result"
    }
   ],
   "source": [
    "print('CIRCUIT FOLDING')\n",
    "circuit_folded_circuit = circuit_folding(circuit, scaling = 4.5)\n",
    "\n",
    "print('Circuit Depth: ', circuit_folded_circuit.depth())\n",
    "print('Circuit circuit size: ', circuit_folded_circuit.size())\n",
    "print(len(circuit_folded_circuit))\n",
    "\n",
    "noisy_value = executor(circuit_folded_circuit, simulator, shots, noise_model=noise_model)\n",
    "print('Noisy_value: ', noisy_value)\n",
    "\n",
    "circuit_folded_circuit.draw('mpl')"
   ]
  },
  {
   "cell_type": "markdown",
   "id": "1b24edf1-8040-4716-b31f-03fd9876c10b",
   "metadata": {},
   "source": [
    "Running the FOlding and computing the possible results. "
   ]
  },
  {
   "cell_type": "code",
   "execution_count": 173,
   "id": "e7e5873c-2730-4102-b40b-60203007250b",
   "metadata": {},
   "outputs": [
    {
     "name": "stdout",
     "output_type": "stream",
     "text": [
      "1.0\n",
      "1.5\n"
     ]
    },
    {
     "name": "stderr",
     "output_type": "stream",
     "text": [
      "/tmp/ipykernel_64/4009622615.py:36: DeprecationWarning: Back-references to from Bit instances to their containing Registers have been deprecated. Instead, inspect Registers to find their contained Bits.\n",
      "  args.append(arg[k].index)\n"
     ]
    },
    {
     "name": "stdout",
     "output_type": "stream",
     "text": [
      "2.0\n",
      "2.5\n",
      "3.0\n",
      "3.5\n",
      "4.0\n",
      "4.5\n",
      "5.0\n",
      "5.5\n",
      "6.0\n",
      "6.5\n",
      "7.0\n",
      "7.5\n",
      "8.0\n"
     ]
    }
   ],
   "source": [
    "#definiscilo con la risoluzione che può essere data al tuo sistema in base a d\n",
    "scales = np.linspace(1, 8, 15)\n",
    "i = 0\n",
    "\n",
    "for scale in scales:\n",
    "    print(scale)\n",
    "    circuit_folded_gate_left = gate_folding(circuit, scaling=scale, way='Left')\n",
    "    value_gate_left = executor(circuit_folded_gate_left, simulator, shots=shots, noise_model=noise_model)\n",
    "\n",
    "    circuit_folded_gate_right = gate_folding(circuit, scaling=scale, way='Right')\n",
    "    value_gate_right = executor(circuit_folded_gate_right, simulator, shots=shots, noise_model=noise_model)\n",
    "\n",
    "    circuit_folded_gate_random = gate_folding(circuit, scaling=scale, way='Random')\n",
    "    value_gate_random = executor(circuit_folded_gate_random, simulator, shots=shots, noise_model=noise_model)\n",
    "\n",
    "    circuit_folded_circuit = circuit_folding(circuit, scaling=scale)\n",
    "    value_circuit = executor(circuit_folded_circuit, simulator, shots=shots, noise_model=noise_model)\n",
    "\n",
    "    new_row = pd.Series(data={\"Ideal\":ideal_value,\"Scale\": scale, \"Gate Left\": value_gate_left, \"Gate Right\": value_gate_right,\n",
    "                              \"Gate Random\": value_gate_random, \"Circuit\": value_circuit},\n",
    "                        name='{}'.format(i))\n",
    "    i += 1\n",
    "\n",
    "    df = df.append(new_row, ignore_index=False)\n",
    "\n",
    "df.to_csv('Results\\Grover_3_{}.csv'.format(prova))\n"
   ]
  },
  {
   "cell_type": "code",
   "execution_count": null,
   "id": "d34562b0-4f70-4715-b5f5-a71e61907060",
   "metadata": {},
   "outputs": [],
   "source": []
  },
  {
   "cell_type": "code",
   "execution_count": null,
   "id": "c2de38a8-acc7-47bf-9d55-30eb1dd4e7e6",
   "metadata": {},
   "outputs": [],
   "source": []
  }
 ],
 "metadata": {
  "kernelspec": {
   "display_name": "Qiskit v0.34.1 (ipykernel)",
   "language": "python",
   "name": "python3"
  },
  "language_info": {
   "codemirror_mode": {
    "name": "ipython",
    "version": 3
   },
   "file_extension": ".py",
   "mimetype": "text/x-python",
   "name": "python",
   "nbconvert_exporter": "python",
   "pygments_lexer": "ipython3",
   "version": "3.8.10"
  },
  "widgets": {
   "application/vnd.jupyter.widget-state+json": {
    "state": {
     "1337c6fd072c40fc8871c7f6fc967641": {
      "model_module": "@jupyter-widgets/controls",
      "model_module_version": "1.5.0",
      "model_name": "HTMLModel",
      "state": {
       "layout": "IPY_MODEL_ecf5732978ba4427bbd96621be344752",
       "style": "IPY_MODEL_8804fae473764f7a87e7d6b5037237f4",
       "value": "<h5>Queue</h5>"
      }
     },
     "216f27af79654fe49876d07b2e6114b1": {
      "model_module": "@jupyter-widgets/controls",
      "model_module_version": "1.5.0",
      "model_name": "HTMLModel",
      "state": {
       "layout": "IPY_MODEL_b16bf689da14495595d6661f0f090257",
       "style": "IPY_MODEL_21b8c9ff915a44f09103133c0dee5aa8",
       "value": "<h5>Message</h5>"
      }
     },
     "21b8c9ff915a44f09103133c0dee5aa8": {
      "model_module": "@jupyter-widgets/controls",
      "model_module_version": "1.5.0",
      "model_name": "DescriptionStyleModel",
      "state": {
       "description_width": ""
      }
     },
     "23ef708de4e3495d987fabeb62ed6fdf": {
      "model_module": "@jupyter-widgets/base",
      "model_module_version": "1.2.0",
      "model_name": "LayoutModel",
      "state": {
       "grid_template_areas": "\n                                       \". . . . right \"\n                                        ",
       "grid_template_columns": "20% 20% 20% 20% 20%",
       "width": "100%"
      }
     },
     "2d9269b49fbf48839445919157adb0e9": {
      "model_module": "@jupyter-widgets/controls",
      "model_module_version": "1.5.0",
      "model_name": "HTMLModel",
      "state": {
       "layout": "IPY_MODEL_93ab1ce57675457dacafc4943d3b2050",
       "style": "IPY_MODEL_f547e84aac434452a3b3ff7aa4b06bda",
       "value": "<h5>Backend</h5>"
      }
     },
     "2efff873a7cb4072a2bb57be23b9ff80": {
      "model_module": "@jupyter-widgets/controls",
      "model_module_version": "1.5.0",
      "model_name": "DescriptionStyleModel",
      "state": {
       "description_width": ""
      }
     },
     "35ac97c71c1844428b0cb39b592f311d": {
      "model_module": "@jupyter-widgets/controls",
      "model_module_version": "1.5.0",
      "model_name": "GridBoxModel",
      "state": {
       "children": [
        "IPY_MODEL_4cc3de3babf845d481660048560f9d08"
       ],
       "layout": "IPY_MODEL_23ef708de4e3495d987fabeb62ed6fdf"
      }
     },
     "4cc3de3babf845d481660048560f9d08": {
      "model_module": "@jupyter-widgets/controls",
      "model_module_version": "1.5.0",
      "model_name": "ButtonModel",
      "state": {
       "button_style": "primary",
       "description": "Clear",
       "layout": "IPY_MODEL_f862b15a70644b3f95ad68e9b9f96fc0",
       "style": "IPY_MODEL_f8aaa737e16f43448b9503f784996234"
      }
     },
     "608236e46cb54b8a91579589089e5ab3": {
      "model_module": "@jupyter-widgets/controls",
      "model_module_version": "1.5.0",
      "model_name": "HTMLModel",
      "state": {
       "layout": "IPY_MODEL_7ea83e4a01334474aba6c91f9c0bc453",
       "style": "IPY_MODEL_ef999d02539b4e468accdc7059f0056c",
       "value": "<p style='font-family: IBM Plex Sans, Arial, Helvetica, sans-serif; font-size: 20px; font-weight: medium;'>Circuit Properties</p>"
      }
     },
     "7ea83e4a01334474aba6c91f9c0bc453": {
      "model_module": "@jupyter-widgets/base",
      "model_module_version": "1.2.0",
      "model_name": "LayoutModel",
      "state": {
       "margin": "0px 0px 10px 0px"
      }
     },
     "8804fae473764f7a87e7d6b5037237f4": {
      "model_module": "@jupyter-widgets/controls",
      "model_module_version": "1.5.0",
      "model_name": "DescriptionStyleModel",
      "state": {
       "description_width": ""
      }
     },
     "8fb32f5088934dfeb96e48a59d8720c5": {
      "model_module": "@jupyter-widgets/controls",
      "model_module_version": "1.5.0",
      "model_name": "DescriptionStyleModel",
      "state": {
       "description_width": ""
      }
     },
     "93ab1ce57675457dacafc4943d3b2050": {
      "model_module": "@jupyter-widgets/base",
      "model_module_version": "1.2.0",
      "model_name": "LayoutModel",
      "state": {
       "width": "145px"
      }
     },
     "9b4661be41dc4da7af74f0ce5e4d8b4b": {
      "model_module": "@jupyter-widgets/base",
      "model_module_version": "1.2.0",
      "model_name": "LayoutModel",
      "state": {
       "width": "95px"
      }
     },
     "9de9174762684ed6a33a2dc3dcf2e58f": {
      "model_module": "@jupyter-widgets/controls",
      "model_module_version": "1.5.0",
      "model_name": "HTMLModel",
      "state": {
       "layout": "IPY_MODEL_9b4661be41dc4da7af74f0ce5e4d8b4b",
       "style": "IPY_MODEL_8fb32f5088934dfeb96e48a59d8720c5",
       "value": "<h5>Status</h5>"
      }
     },
     "b16bf689da14495595d6661f0f090257": {
      "model_module": "@jupyter-widgets/base",
      "model_module_version": "1.2.0",
      "model_name": "LayoutModel",
      "state": {}
     },
     "b25b8584e99741fba061a34ccadd2b4d": {
      "model_module": "@jupyter-widgets/base",
      "model_module_version": "1.2.0",
      "model_name": "LayoutModel",
      "state": {
       "width": "190px"
      }
     },
     "bfa532b3086c40d99e63aefc5b991737": {
      "model_module": "@jupyter-widgets/controls",
      "model_module_version": "1.5.0",
      "model_name": "HTMLModel",
      "state": {
       "layout": "IPY_MODEL_b25b8584e99741fba061a34ccadd2b4d",
       "style": "IPY_MODEL_2efff873a7cb4072a2bb57be23b9ff80",
       "value": "<h5>Job ID</h5>"
      }
     },
     "d97ab6e8f06042d3bb3f42e2a6d19939": {
      "model_module": "@jupyter-widgets/controls",
      "model_module_version": "1.5.0",
      "model_name": "HBoxModel",
      "state": {
       "children": [
        "IPY_MODEL_bfa532b3086c40d99e63aefc5b991737",
        "IPY_MODEL_2d9269b49fbf48839445919157adb0e9",
        "IPY_MODEL_9de9174762684ed6a33a2dc3dcf2e58f",
        "IPY_MODEL_1337c6fd072c40fc8871c7f6fc967641",
        "IPY_MODEL_216f27af79654fe49876d07b2e6114b1"
       ],
       "layout": "IPY_MODEL_f57628100e42427e8054bba10fe11de3"
      }
     },
     "ecf5732978ba4427bbd96621be344752": {
      "model_module": "@jupyter-widgets/base",
      "model_module_version": "1.2.0",
      "model_name": "LayoutModel",
      "state": {
       "width": "70px"
      }
     },
     "ef999d02539b4e468accdc7059f0056c": {
      "model_module": "@jupyter-widgets/controls",
      "model_module_version": "1.5.0",
      "model_name": "DescriptionStyleModel",
      "state": {
       "description_width": ""
      }
     },
     "f547e84aac434452a3b3ff7aa4b06bda": {
      "model_module": "@jupyter-widgets/controls",
      "model_module_version": "1.5.0",
      "model_name": "DescriptionStyleModel",
      "state": {
       "description_width": ""
      }
     },
     "f57628100e42427e8054bba10fe11de3": {
      "model_module": "@jupyter-widgets/base",
      "model_module_version": "1.2.0",
      "model_name": "LayoutModel",
      "state": {
       "margin": "0px 0px 0px 37px",
       "width": "600px"
      }
     },
     "f862b15a70644b3f95ad68e9b9f96fc0": {
      "model_module": "@jupyter-widgets/base",
      "model_module_version": "1.2.0",
      "model_name": "LayoutModel",
      "state": {
       "grid_area": "right",
       "padding": "0px 0px 0px 0px",
       "width": "70px"
      }
     },
     "f8aaa737e16f43448b9503f784996234": {
      "model_module": "@jupyter-widgets/controls",
      "model_module_version": "1.5.0",
      "model_name": "ButtonStyleModel",
      "state": {}
     }
    },
    "version_major": 2,
    "version_minor": 0
   }
  }
 },
 "nbformat": 4,
 "nbformat_minor": 5
}
